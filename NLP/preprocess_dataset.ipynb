{
 "cells": [
  {
   "cell_type": "markdown",
   "metadata": {},
   "source": [
    "<!-- Data downloaded from Kaggle - \n",
    "Product Listing from Amazon India\n",
    "https://www.kaggle.com/datasets/thedevastator/2019-e-commerce-product-listings-from-amazon-ind -->\n",
    "\n",
    "### Original dataset from data.world\n",
    "\n",
    "Product Listing on Amazon India <br>\n",
    "https://data.world/promptcloud/product-listing-on-amazon-india\n",
    "\n",
    "This dataset will be used to create posts for the campus marketplace mobile application.<br>\n",
    "Common columns such as Product Title, Category, Brand, Product Description, and Price will be used. <br>\n",
    "The dataset will be motified further to suit the needs for the marketplace application. "
   ]
  },
  {
   "cell_type": "markdown",
   "metadata": {},
   "source": [
    "### Preprocess data"
   ]
  },
  {
   "cell_type": "code",
   "execution_count": 121,
   "metadata": {},
   "outputs": [],
   "source": [
    "import pandas as pd\n",
    "import numpy as np\n",
    "from faker import Faker\n",
    "import re\n",
    "import random\n",
    "import matplotlib.pyplot as plt"
   ]
  },
  {
   "cell_type": "code",
   "execution_count": 122,
   "metadata": {},
   "outputs": [
    {
     "data": {
      "text/html": [
       "<div>\n",
       "<style scoped>\n",
       "    .dataframe tbody tr th:only-of-type {\n",
       "        vertical-align: middle;\n",
       "    }\n",
       "\n",
       "    .dataframe tbody tr th {\n",
       "        vertical-align: top;\n",
       "    }\n",
       "\n",
       "    .dataframe thead th {\n",
       "        text-align: right;\n",
       "    }\n",
       "</style>\n",
       "<table border=\"1\" class=\"dataframe\">\n",
       "  <thead>\n",
       "    <tr style=\"text-align: right;\">\n",
       "      <th></th>\n",
       "      <th>index</th>\n",
       "      <th>Uniq Id</th>\n",
       "      <th>Crawl Timestamp</th>\n",
       "      <th>Category</th>\n",
       "      <th>Product Title</th>\n",
       "      <th>Product Description</th>\n",
       "      <th>Brand</th>\n",
       "      <th>Pack Size Or Quantity</th>\n",
       "      <th>Mrp</th>\n",
       "      <th>Price</th>\n",
       "      <th>Site Name</th>\n",
       "      <th>Offers</th>\n",
       "      <th>Combo Offers</th>\n",
       "      <th>Stock Availibility</th>\n",
       "      <th>Product Asin</th>\n",
       "      <th>Image Urls</th>\n",
       "    </tr>\n",
       "  </thead>\n",
       "  <tbody>\n",
       "    <tr>\n",
       "      <th>0</th>\n",
       "      <td>0</td>\n",
       "      <td>eb49cc038190f6f03c272f79fbbce894</td>\n",
       "      <td>2019-10-30 11:38:11 +0000</td>\n",
       "      <td>Skin Care</td>\n",
       "      <td>Lee posh Lactic Acid 60% Anti ageing Pigmenta...</td>\n",
       "      <td>PROFESSIONAL GRADE Face Peel: this peel stimul...</td>\n",
       "      <td>Lee Posh</td>\n",
       "      <td>NaN</td>\n",
       "      <td>2000.00</td>\n",
       "      <td>799.00</td>\n",
       "      <td>Amazon In</td>\n",
       "      <td>60.05%</td>\n",
       "      <td>NaN</td>\n",
       "      <td>YES</td>\n",
       "      <td>B072BGHNJ1</td>\n",
       "      <td>https://images-na.ssl-images-amazon.com/images...</td>\n",
       "    </tr>\n",
       "    <tr>\n",
       "      <th>1</th>\n",
       "      <td>1</td>\n",
       "      <td>1657cc30c438affede6a5060d6847363</td>\n",
       "      <td>2019-10-31 15:46:54 +0000</td>\n",
       "      <td>Skin Care</td>\n",
       "      <td>Branded SLB Works New 1.5mm Titanium 1200 nee...</td>\n",
       "      <td>Item name: 1.5mm titanium 1200 needles microne...</td>\n",
       "      <td>SLB Works</td>\n",
       "      <td>NaN</td>\n",
       "      <td>2040.00</td>\n",
       "      <td>2040.00</td>\n",
       "      <td>Amazon In</td>\n",
       "      <td>0%</td>\n",
       "      <td>NaN</td>\n",
       "      <td>YES</td>\n",
       "      <td>B07QDTZYSJ</td>\n",
       "      <td>https://images-na.ssl-images-amazon.com/images...</td>\n",
       "    </tr>\n",
       "  </tbody>\n",
       "</table>\n",
       "</div>"
      ],
      "text/plain": [
       "   index                           Uniq Id            Crawl Timestamp  \\\n",
       "0      0  eb49cc038190f6f03c272f79fbbce894  2019-10-30 11:38:11 +0000   \n",
       "1      1  1657cc30c438affede6a5060d6847363  2019-10-31 15:46:54 +0000   \n",
       "\n",
       "    Category                                      Product Title  \\\n",
       "0  Skin Care   Lee posh Lactic Acid 60% Anti ageing Pigmenta...   \n",
       "1  Skin Care   Branded SLB Works New 1.5mm Titanium 1200 nee...   \n",
       "\n",
       "                                 Product Description      Brand  \\\n",
       "0  PROFESSIONAL GRADE Face Peel: this peel stimul...   Lee Posh   \n",
       "1  Item name: 1.5mm titanium 1200 needles microne...  SLB Works   \n",
       "\n",
       "  Pack Size Or Quantity      Mrp    Price  Site Name  Offers Combo Offers  \\\n",
       "0                   NaN  2000.00   799.00  Amazon In  60.05%          NaN   \n",
       "1                   NaN  2040.00  2040.00  Amazon In      0%          NaN   \n",
       "\n",
       "  Stock Availibility Product Asin  \\\n",
       "0                YES   B072BGHNJ1   \n",
       "1                YES   B07QDTZYSJ   \n",
       "\n",
       "                                          Image Urls  \n",
       "0  https://images-na.ssl-images-amazon.com/images...  \n",
       "1  https://images-na.ssl-images-amazon.com/images...  "
      ]
     },
     "execution_count": 122,
     "metadata": {},
     "output_type": "execute_result"
    }
   ],
   "source": [
    "# Import data\n",
    "df = pd.read_csv('original_amazon.csv')\n",
    "df.head(2)"
   ]
  },
  {
   "cell_type": "code",
   "execution_count": 123,
   "metadata": {},
   "outputs": [
    {
     "data": {
      "text/plain": [
       "(30000, 16)"
      ]
     },
     "execution_count": 123,
     "metadata": {},
     "output_type": "execute_result"
    }
   ],
   "source": [
    "df.shape"
   ]
  },
  {
   "cell_type": "code",
   "execution_count": 124,
   "metadata": {},
   "outputs": [
    {
     "data": {
      "text/html": [
       "<div>\n",
       "<style scoped>\n",
       "    .dataframe tbody tr th:only-of-type {\n",
       "        vertical-align: middle;\n",
       "    }\n",
       "\n",
       "    .dataframe tbody tr th {\n",
       "        vertical-align: top;\n",
       "    }\n",
       "\n",
       "    .dataframe thead th {\n",
       "        text-align: right;\n",
       "    }\n",
       "</style>\n",
       "<table border=\"1\" class=\"dataframe\">\n",
       "  <thead>\n",
       "    <tr style=\"text-align: right;\">\n",
       "      <th></th>\n",
       "      <th>Category</th>\n",
       "      <th>Product Title</th>\n",
       "      <th>Product Description</th>\n",
       "      <th>Brand</th>\n",
       "      <th>Price</th>\n",
       "    </tr>\n",
       "  </thead>\n",
       "  <tbody>\n",
       "    <tr>\n",
       "      <th>0</th>\n",
       "      <td>Skin Care</td>\n",
       "      <td>Lee posh Lactic Acid 60% Anti ageing Pigmenta...</td>\n",
       "      <td>PROFESSIONAL GRADE Face Peel: this peel stimul...</td>\n",
       "      <td>Lee Posh</td>\n",
       "      <td>799.00</td>\n",
       "    </tr>\n",
       "    <tr>\n",
       "      <th>1</th>\n",
       "      <td>Skin Care</td>\n",
       "      <td>Branded SLB Works New 1.5mm Titanium 1200 nee...</td>\n",
       "      <td>Item name: 1.5mm titanium 1200 needles microne...</td>\n",
       "      <td>SLB Works</td>\n",
       "      <td>2040.00</td>\n",
       "    </tr>\n",
       "  </tbody>\n",
       "</table>\n",
       "</div>"
      ],
      "text/plain": [
       "    Category                                      Product Title  \\\n",
       "0  Skin Care   Lee posh Lactic Acid 60% Anti ageing Pigmenta...   \n",
       "1  Skin Care   Branded SLB Works New 1.5mm Titanium 1200 nee...   \n",
       "\n",
       "                                 Product Description      Brand    Price  \n",
       "0  PROFESSIONAL GRADE Face Peel: this peel stimul...   Lee Posh   799.00  \n",
       "1  Item name: 1.5mm titanium 1200 needles microne...  SLB Works  2040.00  "
      ]
     },
     "execution_count": 124,
     "metadata": {},
     "output_type": "execute_result"
    }
   ],
   "source": [
    "# Only keep select columns\n",
    "columns_to_keep = ['Category', 'Product Title', 'Product Description', 'Brand', 'Price']\n",
    "df = df[columns_to_keep]\n",
    "\n",
    "# Drop rows with null values\n",
    "df = df.dropna()\n",
    "\n",
    "df.head(2)"
   ]
  },
  {
   "cell_type": "code",
   "execution_count": 125,
   "metadata": {},
   "outputs": [
    {
     "name": "stderr",
     "output_type": "stream",
     "text": [
      "C:\\Users\\Yera\\AppData\\Local\\Temp\\ipykernel_23400\\3359699059.py:3: FutureWarning: The default value of regex will change from True to False in a future version.\n",
      "  df['Text'] = df['Product Title'].str.replace('[^A-Za-z0-9]', '', flags=re.UNICODE)\n",
      "C:\\Users\\Yera\\AppData\\Local\\Temp\\ipykernel_23400\\3359699059.py:4: FutureWarning: The default value of regex will change from True to False in a future version.\n",
      "  df['Text'] = df['Product Description'].str.replace('[^A-Za-z0-9]', '', flags=re.UNICODE)\n"
     ]
    }
   ],
   "source": [
    "# Remove all words and characters that are not English alphabet or numbers\n",
    "import re\n",
    "df['Text'] = df['Product Title'].str.replace('[^A-Za-z0-9]', '', flags=re.UNICODE)\n",
    "df['Text'] = df['Product Description'].str.replace('[^A-Za-z0-9]', '', flags=re.UNICODE)"
   ]
  },
  {
   "cell_type": "code",
   "execution_count": 126,
   "metadata": {},
   "outputs": [
    {
     "data": {
      "text/html": [
       "<div>\n",
       "<style scoped>\n",
       "    .dataframe tbody tr th:only-of-type {\n",
       "        vertical-align: middle;\n",
       "    }\n",
       "\n",
       "    .dataframe tbody tr th {\n",
       "        vertical-align: top;\n",
       "    }\n",
       "\n",
       "    .dataframe thead th {\n",
       "        text-align: right;\n",
       "    }\n",
       "</style>\n",
       "<table border=\"1\" class=\"dataframe\">\n",
       "  <thead>\n",
       "    <tr style=\"text-align: right;\">\n",
       "      <th></th>\n",
       "      <th>Category</th>\n",
       "      <th>Product Title</th>\n",
       "      <th>Product Description</th>\n",
       "      <th>Brand</th>\n",
       "      <th>Price</th>\n",
       "      <th>Text</th>\n",
       "      <th>Conditions</th>\n",
       "    </tr>\n",
       "  </thead>\n",
       "  <tbody>\n",
       "    <tr>\n",
       "      <th>0</th>\n",
       "      <td>Skin Care</td>\n",
       "      <td>Lee posh Lactic Acid 60% Anti ageing Pigmenta...</td>\n",
       "      <td>PROFESSIONAL GRADE Face Peel: this peel stimul...</td>\n",
       "      <td>Lee Posh</td>\n",
       "      <td>799.00</td>\n",
       "      <td>PROFESSIONALGRADEFacePeelthispeelstimulatescol...</td>\n",
       "      <td>Very bad</td>\n",
       "    </tr>\n",
       "    <tr>\n",
       "      <th>1</th>\n",
       "      <td>Skin Care</td>\n",
       "      <td>Branded SLB Works New 1.5mm Titanium 1200 nee...</td>\n",
       "      <td>Item name: 1.5mm titanium 1200 needles microne...</td>\n",
       "      <td>SLB Works</td>\n",
       "      <td>2040.00</td>\n",
       "      <td>Itemname15mmtitanium1200needlesmicroneedlesmes...</td>\n",
       "      <td>New</td>\n",
       "    </tr>\n",
       "  </tbody>\n",
       "</table>\n",
       "</div>"
      ],
      "text/plain": [
       "    Category                                      Product Title  \\\n",
       "0  Skin Care   Lee posh Lactic Acid 60% Anti ageing Pigmenta...   \n",
       "1  Skin Care   Branded SLB Works New 1.5mm Titanium 1200 nee...   \n",
       "\n",
       "                                 Product Description      Brand    Price  \\\n",
       "0  PROFESSIONAL GRADE Face Peel: this peel stimul...   Lee Posh   799.00   \n",
       "1  Item name: 1.5mm titanium 1200 needles microne...  SLB Works  2040.00   \n",
       "\n",
       "                                                Text Conditions  \n",
       "0  PROFESSIONALGRADEFacePeelthispeelstimulatescol...   Very bad  \n",
       "1  Itemname15mmtitanium1200needlesmicroneedlesmes...        New  "
      ]
     },
     "execution_count": 126,
     "metadata": {},
     "output_type": "execute_result"
    }
   ],
   "source": [
    "# Create a new column for conditions and randomly assign a value\n",
    "conditions = ['New', 'Very good', 'Good', 'Bad', 'Very bad']\n",
    "df['Conditions'] = np.random.choice(conditions, size=len(df))\n",
    "\n",
    "df.head(2)"
   ]
  },
  {
   "cell_type": "code",
   "execution_count": 127,
   "metadata": {},
   "outputs": [
    {
     "data": {
      "text/plain": [
       "array(['Skin Care', 'Grocery & Gourmet Foods', 'Bath & Shower',\n",
       "       'Fragrance', 'Hair Care', 'Detergents & Dishwash'], dtype=object)"
      ]
     },
     "execution_count": 127,
     "metadata": {},
     "output_type": "execute_result"
    }
   ],
   "source": [
    "# Check values for category\n",
    "df['Category'].unique()"
   ]
  },
  {
   "cell_type": "code",
   "execution_count": 128,
   "metadata": {},
   "outputs": [
    {
     "data": {
      "text/html": [
       "<div>\n",
       "<style scoped>\n",
       "    .dataframe tbody tr th:only-of-type {\n",
       "        vertical-align: middle;\n",
       "    }\n",
       "\n",
       "    .dataframe tbody tr th {\n",
       "        vertical-align: top;\n",
       "    }\n",
       "\n",
       "    .dataframe thead th {\n",
       "        text-align: right;\n",
       "    }\n",
       "</style>\n",
       "<table border=\"1\" class=\"dataframe\">\n",
       "  <thead>\n",
       "    <tr style=\"text-align: right;\">\n",
       "      <th></th>\n",
       "      <th>Category</th>\n",
       "      <th>Product Title</th>\n",
       "      <th>Product Description</th>\n",
       "      <th>Price</th>\n",
       "      <th>Text</th>\n",
       "      <th>Conditions</th>\n",
       "    </tr>\n",
       "  </thead>\n",
       "  <tbody>\n",
       "    <tr>\n",
       "      <th>0</th>\n",
       "      <td>Skin Care | Lee Posh</td>\n",
       "      <td>Lee posh Lactic Acid 60% Anti ageing Pigmenta...</td>\n",
       "      <td>PROFESSIONAL GRADE Face Peel: this peel stimul...</td>\n",
       "      <td>799.00</td>\n",
       "      <td>PROFESSIONALGRADEFacePeelthispeelstimulatescol...</td>\n",
       "      <td>Very bad</td>\n",
       "    </tr>\n",
       "    <tr>\n",
       "      <th>1</th>\n",
       "      <td>Skin Care | SLB Works</td>\n",
       "      <td>Branded SLB Works New 1.5mm Titanium 1200 nee...</td>\n",
       "      <td>Item name: 1.5mm titanium 1200 needles microne...</td>\n",
       "      <td>2040.00</td>\n",
       "      <td>Itemname15mmtitanium1200needlesmicroneedlesmes...</td>\n",
       "      <td>New</td>\n",
       "    </tr>\n",
       "  </tbody>\n",
       "</table>\n",
       "</div>"
      ],
      "text/plain": [
       "                Category                                      Product Title  \\\n",
       "0   Skin Care | Lee Posh   Lee posh Lactic Acid 60% Anti ageing Pigmenta...   \n",
       "1  Skin Care | SLB Works   Branded SLB Works New 1.5mm Titanium 1200 nee...   \n",
       "\n",
       "                                 Product Description    Price  \\\n",
       "0  PROFESSIONAL GRADE Face Peel: this peel stimul...   799.00   \n",
       "1  Item name: 1.5mm titanium 1200 needles microne...  2040.00   \n",
       "\n",
       "                                                Text Conditions  \n",
       "0  PROFESSIONALGRADEFacePeelthispeelstimulatescol...   Very bad  \n",
       "1  Itemname15mmtitanium1200needlesmicroneedlesmes...        New  "
      ]
     },
     "execution_count": 128,
     "metadata": {},
     "output_type": "execute_result"
    }
   ],
   "source": [
    "# Merge Category with Brand column\n",
    "df['Category'] = df['Category'] + ' | ' + df['Brand']\n",
    "df.drop(columns=['Brand'], inplace=True)\n",
    "\n",
    "df.head(2)"
   ]
  },
  {
   "cell_type": "code",
   "execution_count": 129,
   "metadata": {},
   "outputs": [
    {
     "data": {
      "text/html": [
       "<div>\n",
       "<style scoped>\n",
       "    .dataframe tbody tr th:only-of-type {\n",
       "        vertical-align: middle;\n",
       "    }\n",
       "\n",
       "    .dataframe tbody tr th {\n",
       "        vertical-align: top;\n",
       "    }\n",
       "\n",
       "    .dataframe thead th {\n",
       "        text-align: right;\n",
       "    }\n",
       "</style>\n",
       "<table border=\"1\" class=\"dataframe\">\n",
       "  <thead>\n",
       "    <tr style=\"text-align: right;\">\n",
       "      <th></th>\n",
       "      <th>Category</th>\n",
       "      <th>Product Title</th>\n",
       "      <th>Product Description</th>\n",
       "      <th>Price</th>\n",
       "      <th>Text</th>\n",
       "      <th>Conditions</th>\n",
       "      <th>Description Length</th>\n",
       "    </tr>\n",
       "  </thead>\n",
       "  <tbody>\n",
       "    <tr>\n",
       "      <th>0</th>\n",
       "      <td>Skin Care | Lee Posh</td>\n",
       "      <td>Lee posh Lactic Acid 60% Anti ageing Pigmenta...</td>\n",
       "      <td>PROFESSIONAL GRADE Face Peel: this peel stimul...</td>\n",
       "      <td>799.00</td>\n",
       "      <td>PROFESSIONALGRADEFacePeelthispeelstimulatescol...</td>\n",
       "      <td>Very bad</td>\n",
       "      <td>47</td>\n",
       "    </tr>\n",
       "    <tr>\n",
       "      <th>1</th>\n",
       "      <td>Skin Care | SLB Works</td>\n",
       "      <td>Branded SLB Works New 1.5mm Titanium 1200 nee...</td>\n",
       "      <td>Item name: 1.5mm titanium 1200 needles microne...</td>\n",
       "      <td>2040.00</td>\n",
       "      <td>Itemname15mmtitanium1200needlesmicroneedlesmes...</td>\n",
       "      <td>New</td>\n",
       "      <td>161</td>\n",
       "    </tr>\n",
       "    <tr>\n",
       "      <th>2</th>\n",
       "      <td>Skin Care | Generic</td>\n",
       "      <td>Generic 1 Pc brand snail eye cream remove dar...</td>\n",
       "      <td>Use: eye, item type: cream, net wt: 20g, gzzz:...</td>\n",
       "      <td>1042.00</td>\n",
       "      <td>Useeyeitemtypecreamnetwt20ggzzzygzwbzmodelnumb...</td>\n",
       "      <td>Very good</td>\n",
       "      <td>64</td>\n",
       "    </tr>\n",
       "    <tr>\n",
       "      <th>3</th>\n",
       "      <td>Skin Care | Generic</td>\n",
       "      <td>Generic Anti Snoring Snore Stopper Sleep Apne...</td>\n",
       "      <td>Prevent the tongue from dropping backward or b...</td>\n",
       "      <td>1399.00</td>\n",
       "      <td>Preventthetonguefromdroppingbackwardorblockthe...</td>\n",
       "      <td>Very bad</td>\n",
       "      <td>73</td>\n",
       "    </tr>\n",
       "    <tr>\n",
       "      <th>4</th>\n",
       "      <td>Grocery &amp; Gourmet Foods | Harveys</td>\n",
       "      <td>Harveys Crunchy &amp; Creame Gourmet Delicacies C...</td>\n",
       "      <td>Harvey's wafer Cream Wafer 110g. Made in India</td>\n",
       "      <td>570.00</td>\n",
       "      <td>HarveyswaferCreamWafer110gMadeinIndia</td>\n",
       "      <td>Good</td>\n",
       "      <td>8</td>\n",
       "    </tr>\n",
       "  </tbody>\n",
       "</table>\n",
       "</div>"
      ],
      "text/plain": [
       "                            Category  \\\n",
       "0               Skin Care | Lee Posh   \n",
       "1              Skin Care | SLB Works   \n",
       "2                Skin Care | Generic   \n",
       "3                Skin Care | Generic   \n",
       "4  Grocery & Gourmet Foods | Harveys   \n",
       "\n",
       "                                       Product Title  \\\n",
       "0   Lee posh Lactic Acid 60% Anti ageing Pigmenta...   \n",
       "1   Branded SLB Works New 1.5mm Titanium 1200 nee...   \n",
       "2   Generic 1 Pc brand snail eye cream remove dar...   \n",
       "3   Generic Anti Snoring Snore Stopper Sleep Apne...   \n",
       "4   Harveys Crunchy & Creame Gourmet Delicacies C...   \n",
       "\n",
       "                                 Product Description    Price  \\\n",
       "0  PROFESSIONAL GRADE Face Peel: this peel stimul...   799.00   \n",
       "1  Item name: 1.5mm titanium 1200 needles microne...  2040.00   \n",
       "2  Use: eye, item type: cream, net wt: 20g, gzzz:...  1042.00   \n",
       "3  Prevent the tongue from dropping backward or b...  1399.00   \n",
       "4     Harvey's wafer Cream Wafer 110g. Made in India   570.00   \n",
       "\n",
       "                                                Text Conditions  \\\n",
       "0  PROFESSIONALGRADEFacePeelthispeelstimulatescol...   Very bad   \n",
       "1  Itemname15mmtitanium1200needlesmicroneedlesmes...        New   \n",
       "2  Useeyeitemtypecreamnetwt20ggzzzygzwbzmodelnumb...  Very good   \n",
       "3  Preventthetonguefromdroppingbackwardorblockthe...   Very bad   \n",
       "4              HarveyswaferCreamWafer110gMadeinIndia       Good   \n",
       "\n",
       "   Description Length  \n",
       "0                  47  \n",
       "1                 161  \n",
       "2                  64  \n",
       "3                  73  \n",
       "4                   8  "
      ]
     },
     "execution_count": 129,
     "metadata": {},
     "output_type": "execute_result"
    }
   ],
   "source": [
    "# Create a new column named 'Description Length'\n",
    "df['Description Length'] = df['Product Description'].apply(lambda x: len(x.split()))\n",
    "\n",
    "df.head()"
   ]
  },
  {
   "cell_type": "code",
   "execution_count": 130,
   "metadata": {},
   "outputs": [],
   "source": [
    "# First time installment\n",
    "# pip install faker\n"
   ]
  },
  {
   "cell_type": "markdown",
   "metadata": {},
   "source": [
    "Because this dataset is from India, there are lots of titles and descriptions that have word India or Indian. <br>\n",
    "In order to remove bias and suit the market in America, country names in the dataset will randomly be changed to various country names. "
   ]
  },
  {
   "cell_type": "code",
   "execution_count": 131,
   "metadata": {},
   "outputs": [],
   "source": [
    "# Uncomment for the first time installment\n",
    "# pip install pycountry"
   ]
  },
  {
   "cell_type": "code",
   "execution_count": 132,
   "metadata": {},
   "outputs": [
    {
     "data": {
      "text/html": [
       "<div>\n",
       "<style scoped>\n",
       "    .dataframe tbody tr th:only-of-type {\n",
       "        vertical-align: middle;\n",
       "    }\n",
       "\n",
       "    .dataframe tbody tr th {\n",
       "        vertical-align: top;\n",
       "    }\n",
       "\n",
       "    .dataframe thead th {\n",
       "        text-align: right;\n",
       "    }\n",
       "</style>\n",
       "<table border=\"1\" class=\"dataframe\">\n",
       "  <thead>\n",
       "    <tr style=\"text-align: right;\">\n",
       "      <th></th>\n",
       "      <th>Category</th>\n",
       "      <th>Product Title</th>\n",
       "      <th>Product Description</th>\n",
       "      <th>Price</th>\n",
       "      <th>Text</th>\n",
       "      <th>Conditions</th>\n",
       "      <th>Description Length</th>\n",
       "    </tr>\n",
       "  </thead>\n",
       "  <tbody>\n",
       "    <tr>\n",
       "      <th>0</th>\n",
       "      <td>Skin Care | Lee Posh</td>\n",
       "      <td>Lee posh Lactic Acid 60% Anti ageing Pigmenta...</td>\n",
       "      <td>PROFESSIONAL GRADE Face Peel: this peel stimul...</td>\n",
       "      <td>799.00</td>\n",
       "      <td>PROFESSIONALGRADEFacePeelthispeelstimulatescol...</td>\n",
       "      <td>Very bad</td>\n",
       "      <td>47</td>\n",
       "    </tr>\n",
       "    <tr>\n",
       "      <th>1</th>\n",
       "      <td>Skin Care | SLB Works</td>\n",
       "      <td>Branded SLB Works New 1.5mm Titanium 1200 nee...</td>\n",
       "      <td>Item name: 1.5mm titanium 1200 needles microne...</td>\n",
       "      <td>2040.00</td>\n",
       "      <td>Itemname15mmtitanium1200needlesmicroneedlesmes...</td>\n",
       "      <td>New</td>\n",
       "      <td>161</td>\n",
       "    </tr>\n",
       "  </tbody>\n",
       "</table>\n",
       "</div>"
      ],
      "text/plain": [
       "                Category                                      Product Title  \\\n",
       "0   Skin Care | Lee Posh   Lee posh Lactic Acid 60% Anti ageing Pigmenta...   \n",
       "1  Skin Care | SLB Works   Branded SLB Works New 1.5mm Titanium 1200 nee...   \n",
       "\n",
       "                                 Product Description    Price  \\\n",
       "0  PROFESSIONAL GRADE Face Peel: this peel stimul...   799.00   \n",
       "1  Item name: 1.5mm titanium 1200 needles microne...  2040.00   \n",
       "\n",
       "                                                Text Conditions  \\\n",
       "0  PROFESSIONALGRADEFacePeelthispeelstimulatescol...   Very bad   \n",
       "1  Itemname15mmtitanium1200needlesmicroneedlesmes...        New   \n",
       "\n",
       "   Description Length  \n",
       "0                  47  \n",
       "1                 161  "
      ]
     },
     "execution_count": 132,
     "metadata": {},
     "output_type": "execute_result"
    }
   ],
   "source": [
    "# Faker instance for generating country names\n",
    "faker = Faker()\n",
    "\n",
    "# Regular expression to match 'India' or 'Indian'\n",
    "country_regex = re.compile(r'\\b(India|Indian)\\b', flags=re.IGNORECASE)\n",
    "\n",
    "# Function to replace 'India' or 'Indian' with random country names\n",
    "def replace_country(match):\n",
    "    return faker.country()\n",
    "\n",
    "# Replace 'India' or 'Indian' in the DataFrame\n",
    "df['Product Title'] = df['Product Title'].apply(lambda x: country_regex.sub(replace_country, x))\n",
    "df['Product Description'] = df['Product Description'].apply(lambda x: country_regex.sub(replace_country, x))\n",
    "\n",
    "df.head(2)"
   ]
  },
  {
   "cell_type": "code",
   "execution_count": 133,
   "metadata": {},
   "outputs": [
    {
     "data": {
      "image/png": "[encoded data removed]",
      "text/plain": [
       "<Figure size 720x432 with 1 Axes>"
      ]
     },
     "metadata": {
      "needs_background": "light"
     },
     "output_type": "display_data"
    }
   ],
   "source": [
    "# Analyze the Product Description to determine cutoff point\n",
    "plt.figure(figsize=(10, 6))\n",
    "plt.hist(df['Description Length'], bins=20, color='skyblue', edgecolor='black')\n",
    "plt.title('Distribution of Product Description Lengths')\n",
    "plt.xlabel('Length of Product Description')\n",
    "plt.ylabel('Frequency')\n",
    "plt.grid(True)\n",
    "plt.show()"
   ]
  },
  {
   "cell_type": "code",
   "execution_count": 134,
   "metadata": {},
   "outputs": [
    {
     "name": "stdout",
     "output_type": "stream",
     "text": [
      "count    27468.000000\n",
      "mean        62.813965\n",
      "std         58.668311\n",
      "min          1.000000\n",
      "25%         20.000000\n",
      "50%         46.000000\n",
      "75%         82.000000\n",
      "max        365.000000\n",
      "Name: Description Length, dtype: float64\n"
     ]
    }
   ],
   "source": [
    "# Analyze further to determine cutoff percentage \n",
    "description = df['Description Length'].describe()\n",
    "print(description)"
   ]
  },
  {
   "cell_type": "code",
   "execution_count": 135,
   "metadata": {},
   "outputs": [
    {
     "name": "stdout",
     "output_type": "stream",
     "text": [
      "count    23356.000000\n",
      "mean        42.920192\n",
      "std         28.790256\n",
      "min          1.000000\n",
      "25%         17.000000\n",
      "50%         39.000000\n",
      "75%         64.000000\n",
      "max        111.000000\n",
      "Name: Description Length, dtype: float64\n"
     ]
    }
   ],
   "source": [
    "# Calculate the 85th percentile of description lengths\n",
    "percentile_85 = df['Description Length'].quantile(0.85)\n",
    "\n",
    "# Delete rows that go over 85th percentile \n",
    "df = df[df['Description Length'] <= percentile_85]\n",
    "\n",
    "description = df['Description Length'].describe()\n",
    "print(description)"
   ]
  },
  {
   "cell_type": "code",
   "execution_count": 136,
   "metadata": {},
   "outputs": [
    {
     "data": {
      "image/png": "[encoded data removed]",
      "text/plain": [
       "<Figure size 720x432 with 1 Axes>"
      ]
     },
     "metadata": {
      "needs_background": "light"
     },
     "output_type": "display_data"
    }
   ],
   "source": [
    "# Visualize the Product Description by Length and Frequency\n",
    "plt.figure(figsize=(10, 6))\n",
    "plt.hist(df['Description Length'], bins=20, color='skyblue', edgecolor='black')\n",
    "plt.title('Distribution of Product Description Lengths')\n",
    "plt.xlabel('Length of Product Description')\n",
    "plt.ylabel('Frequency')\n",
    "plt.grid(True)\n",
    "plt.show()"
   ]
  },
  {
   "cell_type": "code",
   "execution_count": 137,
   "metadata": {},
   "outputs": [
    {
     "data": {
      "text/html": [
       "<div>\n",
       "<style scoped>\n",
       "    .dataframe tbody tr th:only-of-type {\n",
       "        vertical-align: middle;\n",
       "    }\n",
       "\n",
       "    .dataframe tbody tr th {\n",
       "        vertical-align: top;\n",
       "    }\n",
       "\n",
       "    .dataframe thead th {\n",
       "        text-align: right;\n",
       "    }\n",
       "</style>\n",
       "<table border=\"1\" class=\"dataframe\">\n",
       "  <thead>\n",
       "    <tr style=\"text-align: right;\">\n",
       "      <th></th>\n",
       "      <th>Category</th>\n",
       "      <th>Product Title</th>\n",
       "      <th>Product Description</th>\n",
       "      <th>Price</th>\n",
       "      <th>Text</th>\n",
       "      <th>Conditions</th>\n",
       "      <th>Description Length</th>\n",
       "      <th>Price in USD</th>\n",
       "    </tr>\n",
       "  </thead>\n",
       "  <tbody>\n",
       "    <tr>\n",
       "      <th>0</th>\n",
       "      <td>Skin Care | Lee Posh</td>\n",
       "      <td>Lee posh Lactic Acid 60% Anti ageing Pigmenta...</td>\n",
       "      <td>PROFESSIONAL GRADE Face Peel: this peel stimul...</td>\n",
       "      <td>799.0</td>\n",
       "      <td>PROFESSIONALGRADEFacePeelthispeelstimulatescol...</td>\n",
       "      <td>Very bad</td>\n",
       "      <td>47</td>\n",
       "      <td>11.19</td>\n",
       "    </tr>\n",
       "    <tr>\n",
       "      <th>2</th>\n",
       "      <td>Skin Care | Generic</td>\n",
       "      <td>Generic 1 Pc brand snail eye cream remove dar...</td>\n",
       "      <td>Use: eye, item type: cream, net wt: 20g, gzzz:...</td>\n",
       "      <td>1042.0</td>\n",
       "      <td>Useeyeitemtypecreamnetwt20ggzzzygzwbzmodelnumb...</td>\n",
       "      <td>Very good</td>\n",
       "      <td>64</td>\n",
       "      <td>14.59</td>\n",
       "    </tr>\n",
       "    <tr>\n",
       "      <th>3</th>\n",
       "      <td>Skin Care | Generic</td>\n",
       "      <td>Generic Anti Snoring Snore Stopper Sleep Apne...</td>\n",
       "      <td>Prevent the tongue from dropping backward or b...</td>\n",
       "      <td>1399.0</td>\n",
       "      <td>Preventthetonguefromdroppingbackwardorblockthe...</td>\n",
       "      <td>Very bad</td>\n",
       "      <td>73</td>\n",
       "      <td>19.59</td>\n",
       "    </tr>\n",
       "    <tr>\n",
       "      <th>4</th>\n",
       "      <td>Grocery &amp; Gourmet Foods | Harveys</td>\n",
       "      <td>Harveys Crunchy &amp; Creame Gourmet Delicacies C...</td>\n",
       "      <td>Harvey's wafer Cream Wafer 110g. Made in Korea</td>\n",
       "      <td>570.0</td>\n",
       "      <td>HarveyswaferCreamWafer110gMadeinIndia</td>\n",
       "      <td>Good</td>\n",
       "      <td>8</td>\n",
       "      <td>7.98</td>\n",
       "    </tr>\n",
       "    <tr>\n",
       "      <th>5</th>\n",
       "      <td>Skin Care | ShiKai</td>\n",
       "      <td>Shikai Borage Dry Skin Therapy Foot Cream, 4....</td>\n",
       "      <td>Package Quantity:3 Contains borage oil, clinic...</td>\n",
       "      <td>5344.0</td>\n",
       "      <td>PackageQuantity3Containsborageoilclinicallypro...</td>\n",
       "      <td>Very bad</td>\n",
       "      <td>28</td>\n",
       "      <td>74.82</td>\n",
       "    </tr>\n",
       "  </tbody>\n",
       "</table>\n",
       "</div>"
      ],
      "text/plain": [
       "                            Category  \\\n",
       "0               Skin Care | Lee Posh   \n",
       "2                Skin Care | Generic   \n",
       "3                Skin Care | Generic   \n",
       "4  Grocery & Gourmet Foods | Harveys   \n",
       "5                 Skin Care | ShiKai   \n",
       "\n",
       "                                       Product Title  \\\n",
       "0   Lee posh Lactic Acid 60% Anti ageing Pigmenta...   \n",
       "2   Generic 1 Pc brand snail eye cream remove dar...   \n",
       "3   Generic Anti Snoring Snore Stopper Sleep Apne...   \n",
       "4   Harveys Crunchy & Creame Gourmet Delicacies C...   \n",
       "5   Shikai Borage Dry Skin Therapy Foot Cream, 4....   \n",
       "\n",
       "                                 Product Description   Price  \\\n",
       "0  PROFESSIONAL GRADE Face Peel: this peel stimul...   799.0   \n",
       "2  Use: eye, item type: cream, net wt: 20g, gzzz:...  1042.0   \n",
       "3  Prevent the tongue from dropping backward or b...  1399.0   \n",
       "4     Harvey's wafer Cream Wafer 110g. Made in Korea   570.0   \n",
       "5  Package Quantity:3 Contains borage oil, clinic...  5344.0   \n",
       "\n",
       "                                                Text Conditions  \\\n",
       "0  PROFESSIONALGRADEFacePeelthispeelstimulatescol...   Very bad   \n",
       "2  Useeyeitemtypecreamnetwt20ggzzzygzwbzmodelnumb...  Very good   \n",
       "3  Preventthetonguefromdroppingbackwardorblockthe...   Very bad   \n",
       "4              HarveyswaferCreamWafer110gMadeinIndia       Good   \n",
       "5  PackageQuantity3Containsborageoilclinicallypro...   Very bad   \n",
       "\n",
       "   Description Length  Price in USD  \n",
       "0                  47         11.19  \n",
       "2                  64         14.59  \n",
       "3                  73         19.59  \n",
       "4                   8          7.98  \n",
       "5                  28         74.82  "
      ]
     },
     "execution_count": 137,
     "metadata": {},
     "output_type": "execute_result"
    }
   ],
   "source": [
    "# Change 'Price' column type to numeric \n",
    "df['Price'] = pd.to_numeric(df['Price'], errors='coerce')\n",
    "\n",
    "# Set exchange rate for Indian Rupee to US Dollars\n",
    "exchange_rate = 0.014\n",
    "\n",
    "# Create a new column for Price in US Dollar \n",
    "df['Price in USD'] = df['Price'] * exchange_rate\n",
    "\n",
    "# Round 'Price in USD' column to two decimal places\n",
    "df['Price in USD'] = df['Price in USD'].round(2)\n",
    "\n",
    "df.head()"
   ]
  },
  {
   "cell_type": "code",
   "execution_count": 138,
   "metadata": {},
   "outputs": [
    {
     "name": "stdout",
     "output_type": "stream",
     "text": [
      "count    23301.000000\n",
      "mean      2186.321817\n",
      "std       2372.812649\n",
      "min         12.000000\n",
      "25%        429.000000\n",
      "50%       1048.000000\n",
      "75%       3347.000000\n",
      "90%       5979.000000\n",
      "95%       7524.000000\n",
      "99%       9292.000000\n",
      "max      21990.000000\n",
      "Name: Price, dtype: float64\n"
     ]
    }
   ],
   "source": [
    "# Analyze Price column to determine cutoff point\n",
    "percentiles = df['Price'].describe(percentiles=[0.25, 0.50, 0.75, 0.90, 0.95, 0.99])\n",
    "print(percentiles)"
   ]
  },
  {
   "cell_type": "code",
   "execution_count": 139,
   "metadata": {},
   "outputs": [
    {
     "data": {
      "image/png": "[encoded data removed]",
      "text/plain": [
       "<Figure size 720x432 with 1 Axes>"
      ]
     },
     "metadata": {
      "needs_background": "light"
     },
     "output_type": "display_data"
    }
   ],
   "source": [
    "# Plot histogram to see distribution for Price\n",
    "plt.figure(figsize=(10, 6))\n",
    "plt.hist(df['Price in USD'], bins=20, color='skyblue', edgecolor='black')\n",
    "plt.title('Distribution of Prices')\n",
    "plt.xlabel('Price')\n",
    "plt.ylabel('Frequency')\n",
    "plt.grid(True)\n",
    "plt.show()"
   ]
  },
  {
   "cell_type": "code",
   "execution_count": 140,
   "metadata": {},
   "outputs": [
    {
     "data": {
      "text/html": [
       "<div>\n",
       "<style scoped>\n",
       "    .dataframe tbody tr th:only-of-type {\n",
       "        vertical-align: middle;\n",
       "    }\n",
       "\n",
       "    .dataframe tbody tr th {\n",
       "        vertical-align: top;\n",
       "    }\n",
       "\n",
       "    .dataframe thead th {\n",
       "        text-align: right;\n",
       "    }\n",
       "</style>\n",
       "<table border=\"1\" class=\"dataframe\">\n",
       "  <thead>\n",
       "    <tr style=\"text-align: right;\">\n",
       "      <th></th>\n",
       "      <th>Category</th>\n",
       "      <th>Product Title</th>\n",
       "      <th>Product Description</th>\n",
       "      <th>Price</th>\n",
       "      <th>Text</th>\n",
       "      <th>Conditions</th>\n",
       "      <th>Description Length</th>\n",
       "      <th>Price in USD</th>\n",
       "    </tr>\n",
       "  </thead>\n",
       "  <tbody>\n",
       "    <tr>\n",
       "      <th>0</th>\n",
       "      <td>Skin Care | Lee Posh</td>\n",
       "      <td>Lee posh Lactic Acid 60% Anti ageing Pigmenta...</td>\n",
       "      <td>PROFESSIONAL GRADE Face Peel: this peel stimul...</td>\n",
       "      <td>799.0</td>\n",
       "      <td>PROFESSIONALGRADEFacePeelthispeelstimulatescol...</td>\n",
       "      <td>Very bad</td>\n",
       "      <td>47</td>\n",
       "      <td>11.19</td>\n",
       "    </tr>\n",
       "    <tr>\n",
       "      <th>2</th>\n",
       "      <td>Skin Care | Generic</td>\n",
       "      <td>Generic 1 Pc brand snail eye cream remove dar...</td>\n",
       "      <td>Use: eye, item type: cream, net wt: 20g, gzzz:...</td>\n",
       "      <td>1042.0</td>\n",
       "      <td>Useeyeitemtypecreamnetwt20ggzzzygzwbzmodelnumb...</td>\n",
       "      <td>Very good</td>\n",
       "      <td>64</td>\n",
       "      <td>14.59</td>\n",
       "    </tr>\n",
       "    <tr>\n",
       "      <th>3</th>\n",
       "      <td>Skin Care | Generic</td>\n",
       "      <td>Generic Anti Snoring Snore Stopper Sleep Apne...</td>\n",
       "      <td>Prevent the tongue from dropping backward or b...</td>\n",
       "      <td>1399.0</td>\n",
       "      <td>Preventthetonguefromdroppingbackwardorblockthe...</td>\n",
       "      <td>Very bad</td>\n",
       "      <td>73</td>\n",
       "      <td>19.59</td>\n",
       "    </tr>\n",
       "    <tr>\n",
       "      <th>4</th>\n",
       "      <td>Grocery &amp; Gourmet Foods | Harveys</td>\n",
       "      <td>Harveys Crunchy &amp; Creame Gourmet Delicacies C...</td>\n",
       "      <td>Harvey's wafer Cream Wafer 110g. Made in Korea</td>\n",
       "      <td>570.0</td>\n",
       "      <td>HarveyswaferCreamWafer110gMadeinIndia</td>\n",
       "      <td>Good</td>\n",
       "      <td>8</td>\n",
       "      <td>7.98</td>\n",
       "    </tr>\n",
       "    <tr>\n",
       "      <th>5</th>\n",
       "      <td>Skin Care | ShiKai</td>\n",
       "      <td>Shikai Borage Dry Skin Therapy Foot Cream, 4....</td>\n",
       "      <td>Package Quantity:3 Contains borage oil, clinic...</td>\n",
       "      <td>5344.0</td>\n",
       "      <td>PackageQuantity3Containsborageoilclinicallypro...</td>\n",
       "      <td>Very bad</td>\n",
       "      <td>28</td>\n",
       "      <td>74.82</td>\n",
       "    </tr>\n",
       "  </tbody>\n",
       "</table>\n",
       "</div>"
      ],
      "text/plain": [
       "                            Category  \\\n",
       "0               Skin Care | Lee Posh   \n",
       "2                Skin Care | Generic   \n",
       "3                Skin Care | Generic   \n",
       "4  Grocery & Gourmet Foods | Harveys   \n",
       "5                 Skin Care | ShiKai   \n",
       "\n",
       "                                       Product Title  \\\n",
       "0   Lee posh Lactic Acid 60% Anti ageing Pigmenta...   \n",
       "2   Generic 1 Pc brand snail eye cream remove dar...   \n",
       "3   Generic Anti Snoring Snore Stopper Sleep Apne...   \n",
       "4   Harveys Crunchy & Creame Gourmet Delicacies C...   \n",
       "5   Shikai Borage Dry Skin Therapy Foot Cream, 4....   \n",
       "\n",
       "                                 Product Description   Price  \\\n",
       "0  PROFESSIONAL GRADE Face Peel: this peel stimul...   799.0   \n",
       "2  Use: eye, item type: cream, net wt: 20g, gzzz:...  1042.0   \n",
       "3  Prevent the tongue from dropping backward or b...  1399.0   \n",
       "4     Harvey's wafer Cream Wafer 110g. Made in Korea   570.0   \n",
       "5  Package Quantity:3 Contains borage oil, clinic...  5344.0   \n",
       "\n",
       "                                                Text Conditions  \\\n",
       "0  PROFESSIONALGRADEFacePeelthispeelstimulatescol...   Very bad   \n",
       "2  Useeyeitemtypecreamnetwt20ggzzzygzwbzmodelnumb...  Very good   \n",
       "3  Preventthetonguefromdroppingbackwardorblockthe...   Very bad   \n",
       "4              HarveyswaferCreamWafer110gMadeinIndia       Good   \n",
       "5  PackageQuantity3Containsborageoilclinicallypro...   Very bad   \n",
       "\n",
       "   Description Length  Price in USD  \n",
       "0                  47         11.19  \n",
       "2                  64         14.59  \n",
       "3                  73         19.59  \n",
       "4                   8          7.98  \n",
       "5                  28         74.82  "
      ]
     },
     "execution_count": 140,
     "metadata": {},
     "output_type": "execute_result"
    }
   ],
   "source": [
    "# Calculate the 99th percentile\n",
    "percentile_99 = df['Price in USD'].quantile(0.99)\n",
    "\n",
    "# Update the DataFrame to include only prices up to the 99th percentile\n",
    "df = df[df['Price in USD'] <= percentile_99]\n",
    "\n",
    "df.head()"
   ]
  },
  {
   "cell_type": "code",
   "execution_count": 141,
   "metadata": {},
   "outputs": [
    {
     "data": {
      "image/png": "[encoded data removed]",
      "text/plain": [
       "<Figure size 720x432 with 1 Axes>"
      ]
     },
     "metadata": {
      "needs_background": "light"
     },
     "output_type": "display_data"
    }
   ],
   "source": [
    "# Plot histogram of the new 'Price' column\n",
    "plt.figure(figsize=(10, 6))\n",
    "plt.hist(df['Price in USD'], bins=20, color='skyblue', edgecolor='black')\n",
    "plt.title('Distribution of Prices (Up to 99th Percentile)')\n",
    "plt.xlabel('Price in USD')\n",
    "plt.ylabel('Frequency')\n",
    "plt.grid(True)\n",
    "plt.show()"
   ]
  },
  {
   "cell_type": "code",
   "execution_count": 142,
   "metadata": {},
   "outputs": [
    {
     "name": "stdout",
     "output_type": "stream",
     "text": [
      "count    23069.000000\n",
      "mean        29.541540\n",
      "std         31.600067\n",
      "min          0.170000\n",
      "25%          5.940000\n",
      "50%         14.200000\n",
      "75%         45.350000\n",
      "90%         80.614000\n",
      "95%        100.160000\n",
      "99%        122.880000\n",
      "max        130.090000\n",
      "Name: Price in USD, dtype: float64\n"
     ]
    }
   ],
   "source": [
    "# Calculate box plot percentiles for the filtered data\n",
    "percentiles_filtered = df['Price in USD'].describe(percentiles=[0.25, 0.50, 0.75, 0.90, 0.95, 0.99])\n",
    "print(percentiles_filtered)"
   ]
  },
  {
   "cell_type": "code",
   "execution_count": 143,
   "metadata": {},
   "outputs": [
    {
     "data": {
      "text/plain": [
       "(23069, 8)"
      ]
     },
     "execution_count": 143,
     "metadata": {},
     "output_type": "execute_result"
    }
   ],
   "source": [
    "df.shape"
   ]
  },
  {
   "cell_type": "code",
   "execution_count": 144,
   "metadata": {},
   "outputs": [],
   "source": [
    "# Drop the column with price in Indian Rupee and replace with column with price in USD\n",
    "df.drop(columns=['Price'], inplace=True)\n",
    "df.rename(columns={'Price in USD': 'Price'}, inplace=True)"
   ]
  },
  {
   "cell_type": "code",
   "execution_count": 145,
   "metadata": {},
   "outputs": [],
   "source": [
    "# Define the desired column order\n",
    "desired_columns = ['Category', 'Product Title', 'Product Description', 'Price', 'Conditions', 'Description Length']\n",
    "\n",
    "# Reorder the columns\n",
    "df = df.reindex(columns=desired_columns)"
   ]
  },
  {
   "cell_type": "code",
   "execution_count": 146,
   "metadata": {},
   "outputs": [
    {
     "data": {
      "text/html": [
       "<div>\n",
       "<style scoped>\n",
       "    .dataframe tbody tr th:only-of-type {\n",
       "        vertical-align: middle;\n",
       "    }\n",
       "\n",
       "    .dataframe tbody tr th {\n",
       "        vertical-align: top;\n",
       "    }\n",
       "\n",
       "    .dataframe thead th {\n",
       "        text-align: right;\n",
       "    }\n",
       "</style>\n",
       "<table border=\"1\" class=\"dataframe\">\n",
       "  <thead>\n",
       "    <tr style=\"text-align: right;\">\n",
       "      <th></th>\n",
       "      <th>Category</th>\n",
       "      <th>Product Title</th>\n",
       "      <th>Product Description</th>\n",
       "      <th>Price</th>\n",
       "      <th>Conditions</th>\n",
       "      <th>Description Length</th>\n",
       "    </tr>\n",
       "  </thead>\n",
       "  <tbody>\n",
       "    <tr>\n",
       "      <th>0</th>\n",
       "      <td>Skin Care | Lee Posh</td>\n",
       "      <td>Lee posh Lactic Acid 60% Anti ageing Pigmenta...</td>\n",
       "      <td>PROFESSIONAL GRADE Face Peel: this peel stimul...</td>\n",
       "      <td>11.19</td>\n",
       "      <td>Very bad</td>\n",
       "      <td>47</td>\n",
       "    </tr>\n",
       "    <tr>\n",
       "      <th>2</th>\n",
       "      <td>Skin Care | Generic</td>\n",
       "      <td>Generic 1 Pc brand snail eye cream remove dar...</td>\n",
       "      <td>Use: eye, item type: cream, net wt: 20g, gzzz:...</td>\n",
       "      <td>14.59</td>\n",
       "      <td>Very good</td>\n",
       "      <td>64</td>\n",
       "    </tr>\n",
       "  </tbody>\n",
       "</table>\n",
       "</div>"
      ],
      "text/plain": [
       "               Category                                      Product Title  \\\n",
       "0  Skin Care | Lee Posh   Lee posh Lactic Acid 60% Anti ageing Pigmenta...   \n",
       "2   Skin Care | Generic   Generic 1 Pc brand snail eye cream remove dar...   \n",
       "\n",
       "                                 Product Description  Price Conditions  \\\n",
       "0  PROFESSIONAL GRADE Face Peel: this peel stimul...  11.19   Very bad   \n",
       "2  Use: eye, item type: cream, net wt: 20g, gzzz:...  14.59  Very good   \n",
       "\n",
       "   Description Length  \n",
       "0                  47  \n",
       "2                  64  "
      ]
     },
     "execution_count": 146,
     "metadata": {},
     "output_type": "execute_result"
    }
   ],
   "source": [
    "df.head(2)"
   ]
  },
  {
   "cell_type": "code",
   "execution_count": 147,
   "metadata": {},
   "outputs": [],
   "source": [
    "# Save the preprocessed dataframe\n",
    "df.to_csv('preprocessed_amazon.csv', index=False)\n"
   ]
  },
  {
   "cell_type": "code",
   "execution_count": null,
   "metadata": {},
   "outputs": [],
   "source": []
  }
 ],
 "metadata": {
  "kernelspec": {
   "display_name": "Python 3.9.6 64-bit",
   "language": "python",
   "name": "python3"
  },
  "language_info": {
   "codemirror_mode": {
    "name": "ipython",
    "version": 3
   },
   "file_extension": ".py",
   "mimetype": "text/x-python",
   "name": "python",
   "nbconvert_exporter": "python",
   "pygments_lexer": "ipython3",
   "version": "3.9.6"
  },
  "vscode": {
   "interpreter": {
    "hash": "31f2aee4e71d21fbe5cf8b01ff0e069b9275f58929596ceb00d14d90e3e16cd6"
   }
  }
 },
 "nbformat": 4,
 "nbformat_minor": 2
}
