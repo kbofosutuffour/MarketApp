{
 "cells": [
  {
   "cell_type": "markdown",
   "metadata": {},
   "source": [
    "### Preprocess data"
   ]
  },
  {
   "cell_type": "code",
   "execution_count": 182,
   "metadata": {},
   "outputs": [],
   "source": [
    "import pandas as pd\n",
    "import numpy as np"
   ]
  },
  {
   "cell_type": "code",
   "execution_count": 183,
   "metadata": {},
   "outputs": [
    {
     "data": {
      "text/html": [
       "<div>\n",
       "<style scoped>\n",
       "    .dataframe tbody tr th:only-of-type {\n",
       "        vertical-align: middle;\n",
       "    }\n",
       "\n",
       "    .dataframe tbody tr th {\n",
       "        vertical-align: top;\n",
       "    }\n",
       "\n",
       "    .dataframe thead th {\n",
       "        text-align: right;\n",
       "    }\n",
       "</style>\n",
       "<table border=\"1\" class=\"dataframe\">\n",
       "  <thead>\n",
       "    <tr style=\"text-align: right;\">\n",
       "      <th></th>\n",
       "      <th>index</th>\n",
       "      <th>Uniq Id</th>\n",
       "      <th>Crawl Timestamp</th>\n",
       "      <th>Category</th>\n",
       "      <th>Product Title</th>\n",
       "      <th>Product Description</th>\n",
       "      <th>Brand</th>\n",
       "      <th>Pack Size Or Quantity</th>\n",
       "      <th>Mrp</th>\n",
       "      <th>Price</th>\n",
       "      <th>Site Name</th>\n",
       "      <th>Offers</th>\n",
       "      <th>Combo Offers</th>\n",
       "      <th>Stock Availibility</th>\n",
       "      <th>Product Asin</th>\n",
       "      <th>Image Urls</th>\n",
       "    </tr>\n",
       "  </thead>\n",
       "  <tbody>\n",
       "    <tr>\n",
       "      <th>0</th>\n",
       "      <td>0</td>\n",
       "      <td>eb49cc038190f6f03c272f79fbbce894</td>\n",
       "      <td>2019-10-30 11:38:11 +0000</td>\n",
       "      <td>Skin Care</td>\n",
       "      <td>Lee posh Lactic Acid 60% Anti ageing Pigmenta...</td>\n",
       "      <td>PROFESSIONAL GRADE Face Peel: this peel stimul...</td>\n",
       "      <td>Lee Posh</td>\n",
       "      <td>NaN</td>\n",
       "      <td>2000.00</td>\n",
       "      <td>799.00</td>\n",
       "      <td>Amazon In</td>\n",
       "      <td>60.05%</td>\n",
       "      <td>NaN</td>\n",
       "      <td>YES</td>\n",
       "      <td>B072BGHNJ1</td>\n",
       "      <td>https://images-na.ssl-images-amazon.com/images...</td>\n",
       "    </tr>\n",
       "    <tr>\n",
       "      <th>1</th>\n",
       "      <td>1</td>\n",
       "      <td>1657cc30c438affede6a5060d6847363</td>\n",
       "      <td>2019-10-31 15:46:54 +0000</td>\n",
       "      <td>Skin Care</td>\n",
       "      <td>Branded SLB Works New 1.5mm Titanium 1200 nee...</td>\n",
       "      <td>Item name: 1.5mm titanium 1200 needles microne...</td>\n",
       "      <td>SLB Works</td>\n",
       "      <td>NaN</td>\n",
       "      <td>2040.00</td>\n",
       "      <td>2040.00</td>\n",
       "      <td>Amazon In</td>\n",
       "      <td>0%</td>\n",
       "      <td>NaN</td>\n",
       "      <td>YES</td>\n",
       "      <td>B07QDTZYSJ</td>\n",
       "      <td>https://images-na.ssl-images-amazon.com/images...</td>\n",
       "    </tr>\n",
       "  </tbody>\n",
       "</table>\n",
       "</div>"
      ],
      "text/plain": [
       "   index                           Uniq Id            Crawl Timestamp  \\\n",
       "0      0  eb49cc038190f6f03c272f79fbbce894  2019-10-30 11:38:11 +0000   \n",
       "1      1  1657cc30c438affede6a5060d6847363  2019-10-31 15:46:54 +0000   \n",
       "\n",
       "    Category                                      Product Title  \\\n",
       "0  Skin Care   Lee posh Lactic Acid 60% Anti ageing Pigmenta...   \n",
       "1  Skin Care   Branded SLB Works New 1.5mm Titanium 1200 nee...   \n",
       "\n",
       "                                 Product Description      Brand  \\\n",
       "0  PROFESSIONAL GRADE Face Peel: this peel stimul...   Lee Posh   \n",
       "1  Item name: 1.5mm titanium 1200 needles microne...  SLB Works   \n",
       "\n",
       "  Pack Size Or Quantity      Mrp    Price  Site Name  Offers Combo Offers  \\\n",
       "0                   NaN  2000.00   799.00  Amazon In  60.05%          NaN   \n",
       "1                   NaN  2040.00  2040.00  Amazon In      0%          NaN   \n",
       "\n",
       "  Stock Availibility Product Asin  \\\n",
       "0                YES   B072BGHNJ1   \n",
       "1                YES   B07QDTZYSJ   \n",
       "\n",
       "                                          Image Urls  \n",
       "0  https://images-na.ssl-images-amazon.com/images...  \n",
       "1  https://images-na.ssl-images-amazon.com/images...  "
      ]
     },
     "execution_count": 183,
     "metadata": {},
     "output_type": "execute_result"
    }
   ],
   "source": [
    "# Import data\n",
    "df = pd.read_csv('original_amazon.csv')\n",
    "df.head(2)"
   ]
  },
  {
   "cell_type": "code",
   "execution_count": 184,
   "metadata": {},
   "outputs": [
    {
     "data": {
      "text/plain": [
       "(30000, 16)"
      ]
     },
     "execution_count": 184,
     "metadata": {},
     "output_type": "execute_result"
    }
   ],
   "source": [
    "df.shape"
   ]
  },
  {
   "cell_type": "code",
   "execution_count": 185,
   "metadata": {},
   "outputs": [
    {
     "data": {
      "text/html": [
       "<div>\n",
       "<style scoped>\n",
       "    .dataframe tbody tr th:only-of-type {\n",
       "        vertical-align: middle;\n",
       "    }\n",
       "\n",
       "    .dataframe tbody tr th {\n",
       "        vertical-align: top;\n",
       "    }\n",
       "\n",
       "    .dataframe thead th {\n",
       "        text-align: right;\n",
       "    }\n",
       "</style>\n",
       "<table border=\"1\" class=\"dataframe\">\n",
       "  <thead>\n",
       "    <tr style=\"text-align: right;\">\n",
       "      <th></th>\n",
       "      <th>Category</th>\n",
       "      <th>Product Title</th>\n",
       "      <th>Product Description</th>\n",
       "      <th>Brand</th>\n",
       "      <th>Price</th>\n",
       "    </tr>\n",
       "  </thead>\n",
       "  <tbody>\n",
       "    <tr>\n",
       "      <th>0</th>\n",
       "      <td>Skin Care</td>\n",
       "      <td>Lee posh Lactic Acid 60% Anti ageing Pigmenta...</td>\n",
       "      <td>PROFESSIONAL GRADE Face Peel: this peel stimul...</td>\n",
       "      <td>Lee Posh</td>\n",
       "      <td>799.00</td>\n",
       "    </tr>\n",
       "    <tr>\n",
       "      <th>1</th>\n",
       "      <td>Skin Care</td>\n",
       "      <td>Branded SLB Works New 1.5mm Titanium 1200 nee...</td>\n",
       "      <td>Item name: 1.5mm titanium 1200 needles microne...</td>\n",
       "      <td>SLB Works</td>\n",
       "      <td>2040.00</td>\n",
       "    </tr>\n",
       "  </tbody>\n",
       "</table>\n",
       "</div>"
      ],
      "text/plain": [
       "    Category                                      Product Title  \\\n",
       "0  Skin Care   Lee posh Lactic Acid 60% Anti ageing Pigmenta...   \n",
       "1  Skin Care   Branded SLB Works New 1.5mm Titanium 1200 nee...   \n",
       "\n",
       "                                 Product Description      Brand    Price  \n",
       "0  PROFESSIONAL GRADE Face Peel: this peel stimul...   Lee Posh   799.00  \n",
       "1  Item name: 1.5mm titanium 1200 needles microne...  SLB Works  2040.00  "
      ]
     },
     "execution_count": 185,
     "metadata": {},
     "output_type": "execute_result"
    }
   ],
   "source": [
    "# Only keep select columns\n",
    "columns_to_keep = ['Category', 'Product Title', 'Product Description', 'Brand', 'Price']\n",
    "df = df[columns_to_keep]\n",
    "\n",
    "# Drop rows with null values\n",
    "df = df.dropna()\n",
    "\n",
    "df.head(2)"
   ]
  },
  {
   "cell_type": "code",
   "execution_count": 186,
   "metadata": {},
   "outputs": [
    {
     "data": {
      "text/plain": [
       "array(['Skin Care', 'Grocery & Gourmet Foods', 'Bath & Shower',\n",
       "       'Fragrance', 'Hair Care', 'Detergents & Dishwash'], dtype=object)"
      ]
     },
     "execution_count": 186,
     "metadata": {},
     "output_type": "execute_result"
    }
   ],
   "source": [
    "df['Category'].unique()"
   ]
  },
  {
   "cell_type": "code",
   "execution_count": 187,
   "metadata": {},
   "outputs": [
    {
     "data": {
      "text/html": [
       "<div>\n",
       "<style scoped>\n",
       "    .dataframe tbody tr th:only-of-type {\n",
       "        vertical-align: middle;\n",
       "    }\n",
       "\n",
       "    .dataframe tbody tr th {\n",
       "        vertical-align: top;\n",
       "    }\n",
       "\n",
       "    .dataframe thead th {\n",
       "        text-align: right;\n",
       "    }\n",
       "</style>\n",
       "<table border=\"1\" class=\"dataframe\">\n",
       "  <thead>\n",
       "    <tr style=\"text-align: right;\">\n",
       "      <th></th>\n",
       "      <th>Category</th>\n",
       "      <th>Product Title</th>\n",
       "      <th>Product Description</th>\n",
       "      <th>Brand</th>\n",
       "      <th>Price</th>\n",
       "      <th>Conditions</th>\n",
       "    </tr>\n",
       "  </thead>\n",
       "  <tbody>\n",
       "    <tr>\n",
       "      <th>0</th>\n",
       "      <td>Skin Care</td>\n",
       "      <td>Lee posh Lactic Acid 60% Anti ageing Pigmenta...</td>\n",
       "      <td>PROFESSIONAL GRADE Face Peel: this peel stimul...</td>\n",
       "      <td>Lee Posh</td>\n",
       "      <td>799.00</td>\n",
       "      <td>Bad</td>\n",
       "    </tr>\n",
       "    <tr>\n",
       "      <th>1</th>\n",
       "      <td>Skin Care</td>\n",
       "      <td>Branded SLB Works New 1.5mm Titanium 1200 nee...</td>\n",
       "      <td>Item name: 1.5mm titanium 1200 needles microne...</td>\n",
       "      <td>SLB Works</td>\n",
       "      <td>2040.00</td>\n",
       "      <td>Very good</td>\n",
       "    </tr>\n",
       "  </tbody>\n",
       "</table>\n",
       "</div>"
      ],
      "text/plain": [
       "    Category                                      Product Title  \\\n",
       "0  Skin Care   Lee posh Lactic Acid 60% Anti ageing Pigmenta...   \n",
       "1  Skin Care   Branded SLB Works New 1.5mm Titanium 1200 nee...   \n",
       "\n",
       "                                 Product Description      Brand    Price  \\\n",
       "0  PROFESSIONAL GRADE Face Peel: this peel stimul...   Lee Posh   799.00   \n",
       "1  Item name: 1.5mm titanium 1200 needles microne...  SLB Works  2040.00   \n",
       "\n",
       "  Conditions  \n",
       "0        Bad  \n",
       "1  Very good  "
      ]
     },
     "execution_count": 187,
     "metadata": {},
     "output_type": "execute_result"
    }
   ],
   "source": [
    "# Create a new column for conditions and randomly assign a value\n",
    "conditions = ['New', 'Very good', 'Good', 'Bad', 'Very bad']\n",
    "df['Conditions'] = np.random.choice(conditions, size=len(df))\n",
    "\n",
    "df.head(2)"
   ]
  },
  {
   "cell_type": "code",
   "execution_count": 188,
   "metadata": {},
   "outputs": [
    {
     "data": {
      "text/html": [
       "<div>\n",
       "<style scoped>\n",
       "    .dataframe tbody tr th:only-of-type {\n",
       "        vertical-align: middle;\n",
       "    }\n",
       "\n",
       "    .dataframe tbody tr th {\n",
       "        vertical-align: top;\n",
       "    }\n",
       "\n",
       "    .dataframe thead th {\n",
       "        text-align: right;\n",
       "    }\n",
       "</style>\n",
       "<table border=\"1\" class=\"dataframe\">\n",
       "  <thead>\n",
       "    <tr style=\"text-align: right;\">\n",
       "      <th></th>\n",
       "      <th>Category</th>\n",
       "      <th>Product Title</th>\n",
       "      <th>Product Description</th>\n",
       "      <th>Price</th>\n",
       "      <th>Conditions</th>\n",
       "    </tr>\n",
       "  </thead>\n",
       "  <tbody>\n",
       "    <tr>\n",
       "      <th>0</th>\n",
       "      <td>Skin Care | Lee Posh</td>\n",
       "      <td>Lee posh Lactic Acid 60% Anti ageing Pigmenta...</td>\n",
       "      <td>PROFESSIONAL GRADE Face Peel: this peel stimul...</td>\n",
       "      <td>799.00</td>\n",
       "      <td>Bad</td>\n",
       "    </tr>\n",
       "    <tr>\n",
       "      <th>1</th>\n",
       "      <td>Skin Care | SLB Works</td>\n",
       "      <td>Branded SLB Works New 1.5mm Titanium 1200 nee...</td>\n",
       "      <td>Item name: 1.5mm titanium 1200 needles microne...</td>\n",
       "      <td>2040.00</td>\n",
       "      <td>Very good</td>\n",
       "    </tr>\n",
       "  </tbody>\n",
       "</table>\n",
       "</div>"
      ],
      "text/plain": [
       "                Category                                      Product Title  \\\n",
       "0   Skin Care | Lee Posh   Lee posh Lactic Acid 60% Anti ageing Pigmenta...   \n",
       "1  Skin Care | SLB Works   Branded SLB Works New 1.5mm Titanium 1200 nee...   \n",
       "\n",
       "                                 Product Description    Price Conditions  \n",
       "0  PROFESSIONAL GRADE Face Peel: this peel stimul...   799.00        Bad  \n",
       "1  Item name: 1.5mm titanium 1200 needles microne...  2040.00  Very good  "
      ]
     },
     "execution_count": 188,
     "metadata": {},
     "output_type": "execute_result"
    }
   ],
   "source": [
    "# Merge Category with Brand column\n",
    "df['Category'] = df['Category'] + ' | ' + df['Brand']\n",
    "df.drop(columns=['Brand'], inplace=True)\n",
    "\n",
    "df.head(2)"
   ]
  },
  {
   "cell_type": "code",
   "execution_count": 189,
   "metadata": {},
   "outputs": [],
   "source": [
    "# Uncomment if running for the first time\n",
    "# pip install faker\n"
   ]
  },
  {
   "cell_type": "code",
   "execution_count": 190,
   "metadata": {},
   "outputs": [
    {
     "data": {
      "text/plain": [
       "(27468, 5)"
      ]
     },
     "execution_count": 190,
     "metadata": {},
     "output_type": "execute_result"
    }
   ],
   "source": [
    "# Make sure rows \n",
    "df.shape"
   ]
  },
  {
   "cell_type": "code",
   "execution_count": 191,
   "metadata": {},
   "outputs": [
    {
     "name": "stdout",
     "output_type": "stream",
     "text": [
      "                                Category  \\\n",
      "0                   Skin Care | Lee Posh   \n",
      "1                  Skin Care | SLB Works   \n",
      "2                    Skin Care | Generic   \n",
      "3                    Skin Care | Generic   \n",
      "4      Grocery & Gourmet Foods | Harveys   \n",
      "...                                  ...   \n",
      "29992                 Skin Care | Laikou   \n",
      "29993         Bath & Shower | Dermasolve   \n",
      "29995          Skin Care | Pure Organics   \n",
      "29996                 Skin Care | YASHUS   \n",
      "29999                   Skin Care | Slss   \n",
      "\n",
      "                                           Product Title  \\\n",
      "0       Lee posh Lactic Acid 60% Anti ageing Pigmenta...   \n",
      "1       Branded SLB Works New 1.5mm Titanium 1200 nee...   \n",
      "2       Generic 1 Pc brand snail eye cream remove dar...   \n",
      "3       Generic Anti Snoring Snore Stopper Sleep Apne...   \n",
      "4       Harveys Crunchy & Creame Gourmet Delicacies C...   \n",
      "...                                                  ...   \n",
      "29992   New Day Creams & Moisturizers Pure Nature Soo...   \n",
      "29993             Dermasolve Psoriasis Body Wash 8.0 Oz    \n",
      "29995   Pure Organics Skin Lightening Mild Face Scrub...   \n",
      "29996   Yashus Moisturizing Anti-aging Gold Collagen ...   \n",
      "29999   Slss Anti Wrinkle Organic Hyaluronic Acid Vit...   \n",
      "\n",
      "                                     Product Description    Price Conditions  \n",
      "0      PROFESSIONAL GRADE Face Peel: this peel stimul...   799.00        Bad  \n",
      "1      Item name: 1.5mm titanium 1200 needles microne...  2040.00  Very good  \n",
      "2      Use: eye, item type: cream, net wt: 20g, gzzz:...  1042.00       Good  \n",
      "3      Prevent the tongue from dropping backward or b...  1399.00       Good  \n",
      "4      Harvey's wafer Cream Wafer 110g. Made in Country3   570.00   Very bad  \n",
      "...                                                  ...      ...        ...  \n",
      "29992  Use: Face, Item Type: Cream, Ingredient: Aloe ...  1004.00        New  \n",
      "29993  Use before showering to help soften the scales...  4294.00       Good  \n",
      "29995  For a smooth & Flawless complexion this scrub ...   224.00       Good  \n",
      "29996  Gold eye mask is suitable for people: Eye patt...  1050.00  Very good  \n",
      "29999  With 2.5% active Retinol, Hyaluronic Acid, Vit...  2134.00  Very good  \n",
      "\n",
      "[27468 rows x 5 columns]\n"
     ]
    }
   ],
   "source": [
    "import pandas as pd\n",
    "from faker import Faker\n",
    "import re\n",
    "import random\n",
    "# Faker instance for generating country names\n",
    "faker = Faker()\n",
    "\n",
    "# Regular expression to match country names\n",
    "country_regex = re.compile(r'\\b(India|Indian|Korean|etc)\\b', flags=re.IGNORECASE)\n",
    "\n",
    "# Function to replace country names with random country names\n",
    "def replace_country(match):\n",
    "    countries = ['Country1', 'Country2', 'Country3']  # List of random country names\n",
    "    return random.choice(countries)\n",
    "\n",
    "# Replace country names in the DataFrame\n",
    "df['Product Title'] = df['Product Title'].apply(lambda x: country_regex.sub(replace_country, x))\n",
    "df['Product Description'] = df['Product Description'].apply(lambda x: country_regex.sub(replace_country, x))\n",
    "\n",
    "print(df)\n"
   ]
  },
  {
   "cell_type": "code",
   "execution_count": 192,
   "metadata": {},
   "outputs": [
    {
     "data": {
      "text/plain": [
       "(27468, 5)"
      ]
     },
     "execution_count": 192,
     "metadata": {},
     "output_type": "execute_result"
    }
   ],
   "source": [
    "df.shape"
   ]
  },
  {
   "cell_type": "code",
   "execution_count": 193,
   "metadata": {},
   "outputs": [
    {
     "name": "stdout",
     "output_type": "stream",
     "text": [
      "                                     Product Description  Description Length\n",
      "0      PROFESSIONAL GRADE Face Peel: this peel stimul...                 325\n",
      "1      Item name: 1.5mm titanium 1200 needles microne...                 982\n",
      "2      Use: eye, item type: cream, net wt: 20g, gzzz:...                 510\n",
      "3      Prevent the tongue from dropping backward or b...                 438\n",
      "4      Harvey's wafer Cream Wafer 110g. Made in Country3                  49\n",
      "...                                                  ...                 ...\n",
      "29992  Use: Face, Item Type: Cream, Ingredient: Aloe ...                1024\n",
      "29993  Use before showering to help soften the scales...                 586\n",
      "29995  For a smooth & Flawless complexion this scrub ...                 379\n",
      "29996  Gold eye mask is suitable for people: Eye patt...                 417\n",
      "29999  With 2.5% active Retinol, Hyaluronic Acid, Vit...                 508\n",
      "\n",
      "[27468 rows x 2 columns]\n",
      "count    27468.000000\n",
      "mean       394.508992\n",
      "std        355.801975\n",
      "min          1.000000\n",
      "25%        132.000000\n",
      "50%        299.000000\n",
      "75%        534.000000\n",
      "max       2345.000000\n",
      "Name: Description Length, dtype: float64\n"
     ]
    },
    {
     "data": {
      "image/png": "[encoded data removed]",
      "text/plain": [
       "<Figure size 720x432 with 1 Axes>"
      ]
     },
     "metadata": {
      "needs_background": "light"
     },
     "output_type": "display_data"
    }
   ],
   "source": [
    "df['Description Length'] = df['Product Description'].apply(len)\n",
    "print(df[['Product Description', 'Description Length']])\n",
    "\n",
    "description = df['Description Length'].describe()\n",
    "print(description)\n",
    "\n",
    "import matplotlib.pyplot as plt\n",
    "\n",
    "plt.figure(figsize=(10, 6))\n",
    "plt.hist(df['Description Length'], bins=20, color='skyblue', edgecolor='black')\n",
    "plt.title('Distribution of Product Name Lengths')\n",
    "plt.xlabel('Length of Product Description')\n",
    "plt.ylabel('Frequency')\n",
    "plt.grid(True)\n",
    "plt.show()"
   ]
  },
  {
   "cell_type": "code",
   "execution_count": 194,
   "metadata": {},
   "outputs": [
    {
     "name": "stdout",
     "output_type": "stream",
     "text": [
      "                                     Product Description  Description Length\n",
      "0      PROFESSIONAL GRADE Face Peel: this peel stimul...                 325\n",
      "2      Use: eye, item type: cream, net wt: 20g, gzzz:...                 510\n",
      "3      Prevent the tongue from dropping backward or b...                 438\n",
      "4      Harvey's wafer Cream Wafer 110g. Made in Country3                  49\n",
      "5      Package Quantity:3 Contains borage oil, clinic...                 187\n",
      "...                                                  ...                 ...\n",
      "29991  Size:Pack of 4 Dove Men + Care Antiperspirant ...                  90\n",
      "29993  Use before showering to help soften the scales...                 586\n",
      "29995  For a smooth & Flawless complexion this scrub ...                 379\n",
      "29996  Gold eye mask is suitable for people: Eye patt...                 417\n",
      "29999  With 2.5% active Retinol, Hyaluronic Acid, Vit...                 508\n",
      "\n",
      "[23355 rows x 2 columns]\n"
     ]
    },
    {
     "data": {
      "image/png": "[encoded data removed]",
      "text/plain": [
       "<Figure size 720x432 with 1 Axes>"
      ]
     },
     "metadata": {
      "needs_background": "light"
     },
     "output_type": "display_data"
    }
   ],
   "source": [
    "# Calculate the 85th percentile of description lengths\n",
    "percentile_85 = df['Description Length'].quantile(0.85)\n",
    "\n",
    "# Update description lengths exceeding the 85th percentile\n",
    "df = df[df['Description Length'] <= percentile_85]\n",
    "\n",
    "# Print updated DataFrame\n",
    "print(df[['Product Description', 'Description Length']])\n",
    "\n",
    "# Plot the updated distribution\n",
    "import matplotlib.pyplot as plt\n",
    "\n",
    "plt.figure(figsize=(10, 6))\n",
    "plt.hist(df['Description Length'], bins=20, color='skyblue', edgecolor='black')\n",
    "plt.title('Distribution of Product Description Lengths (Up to 85th Percentile)')\n",
    "plt.xlabel('Length of Product Description')\n",
    "plt.ylabel('Frequency')\n",
    "plt.grid(True)\n",
    "plt.show()"
   ]
  },
  {
   "cell_type": "code",
   "execution_count": 195,
   "metadata": {},
   "outputs": [
    {
     "data": {
      "text/html": [
       "<div>\n",
       "<style scoped>\n",
       "    .dataframe tbody tr th:only-of-type {\n",
       "        vertical-align: middle;\n",
       "    }\n",
       "\n",
       "    .dataframe tbody tr th {\n",
       "        vertical-align: top;\n",
       "    }\n",
       "\n",
       "    .dataframe thead th {\n",
       "        text-align: right;\n",
       "    }\n",
       "</style>\n",
       "<table border=\"1\" class=\"dataframe\">\n",
       "  <thead>\n",
       "    <tr style=\"text-align: right;\">\n",
       "      <th></th>\n",
       "      <th>Category</th>\n",
       "      <th>Product Title</th>\n",
       "      <th>Product Description</th>\n",
       "      <th>Price</th>\n",
       "      <th>Conditions</th>\n",
       "      <th>Description Length</th>\n",
       "    </tr>\n",
       "  </thead>\n",
       "  <tbody>\n",
       "    <tr>\n",
       "      <th>0</th>\n",
       "      <td>Skin Care | Lee Posh</td>\n",
       "      <td>Lee posh Lactic Acid 60% Anti ageing Pigmenta...</td>\n",
       "      <td>PROFESSIONAL GRADE Face Peel: this peel stimul...</td>\n",
       "      <td>799.00</td>\n",
       "      <td>Bad</td>\n",
       "      <td>325</td>\n",
       "    </tr>\n",
       "    <tr>\n",
       "      <th>2</th>\n",
       "      <td>Skin Care | Generic</td>\n",
       "      <td>Generic 1 Pc brand snail eye cream remove dar...</td>\n",
       "      <td>Use: eye, item type: cream, net wt: 20g, gzzz:...</td>\n",
       "      <td>1042.00</td>\n",
       "      <td>Good</td>\n",
       "      <td>510</td>\n",
       "    </tr>\n",
       "  </tbody>\n",
       "</table>\n",
       "</div>"
      ],
      "text/plain": [
       "               Category                                      Product Title  \\\n",
       "0  Skin Care | Lee Posh   Lee posh Lactic Acid 60% Anti ageing Pigmenta...   \n",
       "2   Skin Care | Generic   Generic 1 Pc brand snail eye cream remove dar...   \n",
       "\n",
       "                                 Product Description    Price Conditions  \\\n",
       "0  PROFESSIONAL GRADE Face Peel: this peel stimul...   799.00        Bad   \n",
       "2  Use: eye, item type: cream, net wt: 20g, gzzz:...  1042.00       Good   \n",
       "\n",
       "   Description Length  \n",
       "0                 325  \n",
       "2                 510  "
      ]
     },
     "execution_count": 195,
     "metadata": {},
     "output_type": "execute_result"
    }
   ],
   "source": [
    "df.head(2)"
   ]
  },
  {
   "cell_type": "code",
   "execution_count": 196,
   "metadata": {},
   "outputs": [
    {
     "data": {
      "text/html": [
       "<div>\n",
       "<style scoped>\n",
       "    .dataframe tbody tr th:only-of-type {\n",
       "        vertical-align: middle;\n",
       "    }\n",
       "\n",
       "    .dataframe tbody tr th {\n",
       "        vertical-align: top;\n",
       "    }\n",
       "\n",
       "    .dataframe thead th {\n",
       "        text-align: right;\n",
       "    }\n",
       "</style>\n",
       "<table border=\"1\" class=\"dataframe\">\n",
       "  <thead>\n",
       "    <tr style=\"text-align: right;\">\n",
       "      <th></th>\n",
       "      <th>Category</th>\n",
       "      <th>Product Title</th>\n",
       "      <th>Product Description</th>\n",
       "      <th>Price</th>\n",
       "      <th>Conditions</th>\n",
       "      <th>Description Length</th>\n",
       "      <th>Price in USD</th>\n",
       "    </tr>\n",
       "  </thead>\n",
       "  <tbody>\n",
       "    <tr>\n",
       "      <th>0</th>\n",
       "      <td>Skin Care | Lee Posh</td>\n",
       "      <td>Lee posh Lactic Acid 60% Anti ageing Pigmenta...</td>\n",
       "      <td>PROFESSIONAL GRADE Face Peel: this peel stimul...</td>\n",
       "      <td>799.0</td>\n",
       "      <td>Bad</td>\n",
       "      <td>325</td>\n",
       "      <td>11.19</td>\n",
       "    </tr>\n",
       "    <tr>\n",
       "      <th>2</th>\n",
       "      <td>Skin Care | Generic</td>\n",
       "      <td>Generic 1 Pc brand snail eye cream remove dar...</td>\n",
       "      <td>Use: eye, item type: cream, net wt: 20g, gzzz:...</td>\n",
       "      <td>1042.0</td>\n",
       "      <td>Good</td>\n",
       "      <td>510</td>\n",
       "      <td>14.59</td>\n",
       "    </tr>\n",
       "    <tr>\n",
       "      <th>3</th>\n",
       "      <td>Skin Care | Generic</td>\n",
       "      <td>Generic Anti Snoring Snore Stopper Sleep Apne...</td>\n",
       "      <td>Prevent the tongue from dropping backward or b...</td>\n",
       "      <td>1399.0</td>\n",
       "      <td>Good</td>\n",
       "      <td>438</td>\n",
       "      <td>19.59</td>\n",
       "    </tr>\n",
       "    <tr>\n",
       "      <th>4</th>\n",
       "      <td>Grocery &amp; Gourmet Foods | Harveys</td>\n",
       "      <td>Harveys Crunchy &amp; Creame Gourmet Delicacies C...</td>\n",
       "      <td>Harvey's wafer Cream Wafer 110g. Made in Country3</td>\n",
       "      <td>570.0</td>\n",
       "      <td>Very bad</td>\n",
       "      <td>49</td>\n",
       "      <td>7.98</td>\n",
       "    </tr>\n",
       "    <tr>\n",
       "      <th>5</th>\n",
       "      <td>Skin Care | ShiKai</td>\n",
       "      <td>Shikai Borage Dry Skin Therapy Foot Cream, 4....</td>\n",
       "      <td>Package Quantity:3 Contains borage oil, clinic...</td>\n",
       "      <td>5344.0</td>\n",
       "      <td>Bad</td>\n",
       "      <td>187</td>\n",
       "      <td>74.82</td>\n",
       "    </tr>\n",
       "    <tr>\n",
       "      <th>6</th>\n",
       "      <td>Bath &amp; Shower | Lather+%26+Fizz+Bath+Boutique</td>\n",
       "      <td>Black &amp; Tan Beer Soap 4-Pack</td>\n",
       "      <td>Our handmade soaps are made with the highest g...</td>\n",
       "      <td>7269.0</td>\n",
       "      <td>Good</td>\n",
       "      <td>179</td>\n",
       "      <td>101.77</td>\n",
       "    </tr>\n",
       "    <tr>\n",
       "      <th>7</th>\n",
       "      <td>Bath &amp; Shower | Mydio</td>\n",
       "      <td>Mydio 2 Pack Waterproof Women Shower Caps Bat...</td>\n",
       "      <td>Mydio 2 Pack Waterproof Women Shower Caps Bath...</td>\n",
       "      <td>1659.0</td>\n",
       "      <td>Bad</td>\n",
       "      <td>96</td>\n",
       "      <td>23.23</td>\n",
       "    </tr>\n",
       "    <tr>\n",
       "      <th>8</th>\n",
       "      <td>Grocery &amp; Gourmet Foods | FOODSTUDIO</td>\n",
       "      <td>Food Studio Premium Quality in Shell Pistachi...</td>\n",
       "      <td>Pistachios are small in appearance and are enc...</td>\n",
       "      <td>660.0</td>\n",
       "      <td>Very good</td>\n",
       "      <td>485</td>\n",
       "      <td>9.24</td>\n",
       "    </tr>\n",
       "    <tr>\n",
       "      <th>9</th>\n",
       "      <td>Grocery &amp; Gourmet Foods | Dr Gluten</td>\n",
       "      <td>Dr Glutens Gluten Free Khracker (KHAKHRA) - 2...</td>\n",
       "      <td>GLUTEN FREE KHAKHRAS. LIGHT HEALTHY AND ROASTE...</td>\n",
       "      <td>279.0</td>\n",
       "      <td>Very good</td>\n",
       "      <td>222</td>\n",
       "      <td>3.91</td>\n",
       "    </tr>\n",
       "    <tr>\n",
       "      <th>10</th>\n",
       "      <td>Bath &amp; Shower | Dermisa</td>\n",
       "      <td>Dermisa Soap Sulfur Facial 3 Ounce (88ml) (3 ...</td>\n",
       "      <td>This product is not eligible for priority ship...</td>\n",
       "      <td>4199.0</td>\n",
       "      <td>New</td>\n",
       "      <td>90</td>\n",
       "      <td>58.79</td>\n",
       "    </tr>\n",
       "  </tbody>\n",
       "</table>\n",
       "</div>"
      ],
      "text/plain": [
       "                                         Category  \\\n",
       "0                            Skin Care | Lee Posh   \n",
       "2                             Skin Care | Generic   \n",
       "3                             Skin Care | Generic   \n",
       "4               Grocery & Gourmet Foods | Harveys   \n",
       "5                              Skin Care | ShiKai   \n",
       "6   Bath & Shower | Lather+%26+Fizz+Bath+Boutique   \n",
       "7                           Bath & Shower | Mydio   \n",
       "8            Grocery & Gourmet Foods | FOODSTUDIO   \n",
       "9             Grocery & Gourmet Foods | Dr Gluten   \n",
       "10                        Bath & Shower | Dermisa   \n",
       "\n",
       "                                        Product Title  \\\n",
       "0    Lee posh Lactic Acid 60% Anti ageing Pigmenta...   \n",
       "2    Generic 1 Pc brand snail eye cream remove dar...   \n",
       "3    Generic Anti Snoring Snore Stopper Sleep Apne...   \n",
       "4    Harveys Crunchy & Creame Gourmet Delicacies C...   \n",
       "5    Shikai Borage Dry Skin Therapy Foot Cream, 4....   \n",
       "6                       Black & Tan Beer Soap 4-Pack    \n",
       "7    Mydio 2 Pack Waterproof Women Shower Caps Bat...   \n",
       "8    Food Studio Premium Quality in Shell Pistachi...   \n",
       "9    Dr Glutens Gluten Free Khracker (KHAKHRA) - 2...   \n",
       "10   Dermisa Soap Sulfur Facial 3 Ounce (88ml) (3 ...   \n",
       "\n",
       "                                  Product Description   Price Conditions  \\\n",
       "0   PROFESSIONAL GRADE Face Peel: this peel stimul...   799.0        Bad   \n",
       "2   Use: eye, item type: cream, net wt: 20g, gzzz:...  1042.0       Good   \n",
       "3   Prevent the tongue from dropping backward or b...  1399.0       Good   \n",
       "4   Harvey's wafer Cream Wafer 110g. Made in Country3   570.0   Very bad   \n",
       "5   Package Quantity:3 Contains borage oil, clinic...  5344.0        Bad   \n",
       "6   Our handmade soaps are made with the highest g...  7269.0       Good   \n",
       "7   Mydio 2 Pack Waterproof Women Shower Caps Bath...  1659.0        Bad   \n",
       "8   Pistachios are small in appearance and are enc...   660.0  Very good   \n",
       "9   GLUTEN FREE KHAKHRAS. LIGHT HEALTHY AND ROASTE...   279.0  Very good   \n",
       "10  This product is not eligible for priority ship...  4199.0        New   \n",
       "\n",
       "    Description Length  Price in USD  \n",
       "0                  325         11.19  \n",
       "2                  510         14.59  \n",
       "3                  438         19.59  \n",
       "4                   49          7.98  \n",
       "5                  187         74.82  \n",
       "6                  179        101.77  \n",
       "7                   96         23.23  \n",
       "8                  485          9.24  \n",
       "9                  222          3.91  \n",
       "10                  90         58.79  "
      ]
     },
     "execution_count": 196,
     "metadata": {},
     "output_type": "execute_result"
    }
   ],
   "source": [
    "# Convert 'Price' column to numeric\n",
    "df['Price'] = pd.to_numeric(df['Price'], errors='coerce')\n",
    "\n",
    "# Assuming an exchange rate of 1 INR = 0.014 USD\n",
    "exchange_rate = 0.014\n",
    "\n",
    "# Convert price from INR to USD\n",
    "df['Price in USD'] = df['Price'] * exchange_rate\n",
    "# Round 'Price in USD' column to two decimal places\n",
    "df['Price in USD'] = df['Price in USD'].round(2)\n",
    "\n",
    "# Print the updated DataFrame\n",
    "df.head(10)\n"
   ]
  },
  {
   "cell_type": "code",
   "execution_count": 197,
   "metadata": {},
   "outputs": [
    {
     "data": {
      "image/png": "[encoded data removed]",
      "text/plain": [
       "<Figure size 720x432 with 1 Axes>"
      ]
     },
     "metadata": {
      "needs_background": "light"
     },
     "output_type": "display_data"
    },
    {
     "name": "stdout",
     "output_type": "stream",
     "text": [
      "count    23299.000000\n",
      "mean      2175.046811\n",
      "std       2369.831332\n",
      "min         12.000000\n",
      "25%        424.000000\n",
      "50%       1028.000000\n",
      "75%       3314.500000\n",
      "90%       5954.800000\n",
      "95%       7502.100000\n",
      "99%       9292.040000\n",
      "max      21990.000000\n",
      "Name: Price, dtype: float64\n"
     ]
    }
   ],
   "source": [
    "import matplotlib.pyplot as plt\n",
    "\n",
    "# Plot histogram of 'Price' column\n",
    "plt.figure(figsize=(10, 6))\n",
    "plt.hist(df['Price in USD'], bins=20, color='skyblue', edgecolor='black')\n",
    "plt.title('Distribution of Prices')\n",
    "plt.xlabel('Price')\n",
    "plt.ylabel('Frequency')\n",
    "plt.grid(True)\n",
    "plt.show()\n",
    "\n",
    "# Calculate box plot percentiles\n",
    "percentiles = df['Price'].describe(percentiles=[0.25, 0.50, 0.75, 0.90, 0.95, 0.99])\n",
    "print(percentiles)\n"
   ]
  },
  {
   "cell_type": "code",
   "execution_count": 198,
   "metadata": {},
   "outputs": [
    {
     "name": "stdout",
     "output_type": "stream",
     "text": [
      "                                Category  \\\n",
      "0                   Skin Care | Lee Posh   \n",
      "2                    Skin Care | Generic   \n",
      "3                    Skin Care | Generic   \n",
      "4      Grocery & Gourmet Foods | Harveys   \n",
      "5                     Skin Care | ShiKai   \n",
      "...                                  ...   \n",
      "29991                   Fragrance | Dove   \n",
      "29993         Bath & Shower | Dermasolve   \n",
      "29995          Skin Care | Pure Organics   \n",
      "29996                 Skin Care | YASHUS   \n",
      "29999                   Skin Care | Slss   \n",
      "\n",
      "                                           Product Title  \\\n",
      "0       Lee posh Lactic Acid 60% Anti ageing Pigmenta...   \n",
      "2       Generic 1 Pc brand snail eye cream remove dar...   \n",
      "3       Generic Anti Snoring Snore Stopper Sleep Apne...   \n",
      "4       Harveys Crunchy & Creame Gourmet Delicacies C...   \n",
      "5       Shikai Borage Dry Skin Therapy Foot Cream, 4....   \n",
      "...                                                  ...   \n",
      "29991   Dove Men + Care Cool Silver Antiperspirant De...   \n",
      "29993             Dermasolve Psoriasis Body Wash 8.0 Oz    \n",
      "29995   Pure Organics Skin Lightening Mild Face Scrub...   \n",
      "29996   Yashus Moisturizing Anti-aging Gold Collagen ...   \n",
      "29999   Slss Anti Wrinkle Organic Hyaluronic Acid Vit...   \n",
      "\n",
      "                                     Product Description   Price Conditions  \\\n",
      "0      PROFESSIONAL GRADE Face Peel: this peel stimul...   799.0        Bad   \n",
      "2      Use: eye, item type: cream, net wt: 20g, gzzz:...  1042.0       Good   \n",
      "3      Prevent the tongue from dropping backward or b...  1399.0       Good   \n",
      "4      Harvey's wafer Cream Wafer 110g. Made in Country3   570.0   Very bad   \n",
      "5      Package Quantity:3 Contains borage oil, clinic...  5344.0        Bad   \n",
      "...                                                  ...     ...        ...   \n",
      "29991  Size:Pack of 4 Dove Men + Care Antiperspirant ...  2351.0   Very bad   \n",
      "29993  Use before showering to help soften the scales...  4294.0       Good   \n",
      "29995  For a smooth & Flawless complexion this scrub ...   224.0       Good   \n",
      "29996  Gold eye mask is suitable for people: Eye patt...  1050.0  Very good   \n",
      "29999  With 2.5% active Retinol, Hyaluronic Acid, Vit...  2134.0  Very good   \n",
      "\n",
      "       Description Length  Price in USD  \n",
      "0                     325         11.19  \n",
      "2                     510         14.59  \n",
      "3                     438         19.59  \n",
      "4                      49          7.98  \n",
      "5                     187         74.82  \n",
      "...                   ...           ...  \n",
      "29991                  90         32.91  \n",
      "29993                 586         60.12  \n",
      "29995                 379          3.14  \n",
      "29996                 417         14.70  \n",
      "29999                 508         29.88  \n",
      "\n",
      "[23066 rows x 7 columns]\n"
     ]
    },
    {
     "data": {
      "image/png": "[encoded data removed]",
      "text/plain": [
       "<Figure size 720x432 with 1 Axes>"
      ]
     },
     "metadata": {
      "needs_background": "light"
     },
     "output_type": "display_data"
    },
    {
     "name": "stdout",
     "output_type": "stream",
     "text": [
      "count    23066.000000\n",
      "mean        29.377439\n",
      "std         31.543208\n",
      "min          0.170000\n",
      "25%          5.810000\n",
      "50%         13.990000\n",
      "75%         44.930000\n",
      "90%         80.320000\n",
      "95%         99.970000\n",
      "99%        122.860500\n",
      "max        130.090000\n",
      "Name: Price in USD, dtype: float64\n"
     ]
    }
   ],
   "source": [
    "# Calculate the 99th percentile\n",
    "percentile_99 = df['Price in USD'].quantile(0.99)\n",
    "\n",
    "# Update the DataFrame to include only prices up to the 99th percentile\n",
    "df = df[df['Price in USD'] <= percentile_99]\n",
    "\n",
    "# Print the updated DataFrame\n",
    "print(df)\n",
    "\n",
    "# Plot histogram of filtered 'Price' column\n",
    "plt.figure(figsize=(10, 6))\n",
    "plt.hist(df['Price in USD'], bins=20, color='skyblue', edgecolor='black')\n",
    "plt.title('Distribution of Prices (Up to 99th Percentile)')\n",
    "plt.xlabel('Price in USD')\n",
    "plt.ylabel('Frequency')\n",
    "plt.grid(True)\n",
    "plt.show()\n",
    "\n",
    "# Calculate box plot percentiles for the filtered data\n",
    "percentiles_filtered = df['Price in USD'].describe(percentiles=[0.25, 0.50, 0.75, 0.90, 0.95, 0.99])\n",
    "print(percentiles_filtered)\n"
   ]
  },
  {
   "cell_type": "code",
   "execution_count": 199,
   "metadata": {},
   "outputs": [
    {
     "data": {
      "text/plain": [
       "(23066, 7)"
      ]
     },
     "execution_count": 199,
     "metadata": {},
     "output_type": "execute_result"
    }
   ],
   "source": [
    "df.shape"
   ]
  },
  {
   "cell_type": "code",
   "execution_count": 200,
   "metadata": {},
   "outputs": [],
   "source": [
    "df.to_csv('preprocessed_amazon.csv', index=False)\n"
   ]
  },
  {
   "cell_type": "code",
   "execution_count": null,
   "metadata": {},
   "outputs": [],
   "source": []
  }
 ],
 "metadata": {
  "kernelspec": {
   "display_name": "base",
   "language": "python",
   "name": "python3"
  },
  "language_info": {
   "codemirror_mode": {
    "name": "ipython",
    "version": 3
   },
   "file_extension": ".py",
   "mimetype": "text/x-python",
   "name": "python",
   "nbconvert_exporter": "python",
   "pygments_lexer": "ipython3",
   "version": "3.9.12"
  }
 },
 "nbformat": 4,
 "nbformat_minor": 2
}
